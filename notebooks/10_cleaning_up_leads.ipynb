{
 "cells": [
  {
   "cell_type": "markdown",
   "metadata": {
    "id": "oi6lfZAA6jyG"
   },
   "source": [
    "## Automatically import data\n",
    "### this is taking in \"Master_email_list(manually_maintained)\"\n",
    "### this is managing a file that I have manually put together and maintain for this particular project. "
   ]
  },
  {
   "cell_type": "code",
   "execution_count": null,
   "metadata": {},
   "outputs": [],
   "source": [
    "## If using Google colab \n",
    "# from google.colab import drive\n",
    "# drive.mount('/content/drive', force_remount=True)"
   ]
  },
  {
   "cell_type": "code",
   "execution_count": null,
   "metadata": {
    "id": "Q73Ue21WX7VX"
   },
   "outputs": [],
   "source": [
    "import pandas as pd\n",
    "import io\n",
    "import numpy as np\n",
    "# test"
   ]
  },
  {
   "cell_type": "code",
   "execution_count": null,
   "metadata": {},
   "outputs": [],
   "source": [
    "# Set up read path, read file, write path, write file\n",
    "curr_project_name = \"project_erudition_emails_2\"\n",
    "notebook_path = \"/mnt/c/Users/isaac/Desktop/mturks_assistant_github/mturks_assistant/notebooks\"\n",
    "\n",
    "input_filename = 'full_manuallymaintained_list.xlsx'\n",
    "read_path = notebook_path+\"/../projects/\"+curr_project_name+\"/10_manualCleaned_leads/\"+input_filename\n",
    "\n",
    "output_filename = 'dropped_duplicates_and_empties.xlsx'\n",
    "write_path = notebook_path+\"/../projects/\"+curr_project_name+\"/9_notebookProcessed_leads/\"+output_filename"
   ]
  },
  {
   "cell_type": "code",
   "execution_count": null,
   "metadata": {
    "colab": {
     "base_uri": "https://localhost:8080/"
    },
    "executionInfo": {
     "elapsed": 768,
     "status": "ok",
     "timestamp": 1619297774552,
     "user": {
      "displayName": "Alicia Bogatin",
      "photoUrl": "",
      "userId": "10704781009943021166"
     },
     "user_tz": 240
    },
    "id": "0DZttiyHbszr",
    "outputId": "913fb5b4-2493-4dc9-8073-1f935e752980"
   },
   "outputs": [],
   "source": [
    "df = pd.read_excel(read_path)\n",
    "print(df.shape)\n",
    "df2 = df.drop_duplicates(['club','winner_email','predental_or_prehealth'])\n",
    "print(df2.shape)\n",
    "\n",
    "# you should make this more elegant, picking out duplicates and dead stuff. but it works \n",
    "# you should also in all rows have the series of links and ids used to uniquely get to aht particular thing. college name, club name, prehealth or predental, college ldirectory link, club link, the worker id\n",
    "# also you have to deal with different cases. make it case insensitive or make all emails lower case.\n"
   ]
  },
  {
   "cell_type": "markdown",
   "metadata": {},
   "source": [
    "## This here is to resolve any redundancies between a \"pre-health\" list and a \"pre-dental\" list, allocating those to the \"predental\" group"
   ]
  },
  {
   "cell_type": "code",
   "execution_count": null,
   "metadata": {
    "colab": {
     "base_uri": "https://localhost:8080/"
    },
    "executionInfo": {
     "elapsed": 4061,
     "status": "ok",
     "timestamp": 1619297784413,
     "user": {
      "displayName": "Alicia Bogatin",
      "photoUrl": "",
      "userId": "10704781009943021166"
     },
     "user_tz": 240
    },
    "id": "m369okQwYgrA",
    "outputId": "565f2475-d143-4e0d-bfd7-33478099278e"
   },
   "outputs": [],
   "source": [
    "print(df2.shape)\n",
    "count = 0\n",
    "for name,group in df2.groupby(['club','winner_email']):\n",
    "  if df2.loc[ (df2['club']==name[0]) & (df2['winner_email'] == name[1]) ].shape[0] >1:\n",
    "    count += 1\n",
    "\n",
    "    if df2.loc[ (df2['club']==name[0]) & (df2['winner_email'] == name[1]) ].shape[0] == 2:\n",
    "      \n",
    "      predental = []\n",
    "      prehealth = []\n",
    "      for index, row in df2.loc[ (df2['club']==name[0]) & (df2['winner_email'] == name[1]) ].iterrows():\n",
    "        \n",
    "        if (df2.loc[index,'predental_or_prehealth']=='predental'):\n",
    "          predental.append(index)\n",
    "        else:\n",
    "          prehealth.append(index)\n",
    "      \n",
    "      \n",
    "      if len(predental) == 1:\n",
    "        df2.drop(prehealth[0], inplace=True)\n",
    "      elif len(prehealth) == 2:\n",
    "        df2.drop(prehealth[0], inplace=True)\n",
    "      else:\n",
    "        df2.drop(predental[0], inplace=True)\n",
    "\n",
    "    else:\n",
    "      print(\"redundancy not due to prehealth and predental captures (this should not be the case)\")\n",
    "      print(\"name\",name)\n",
    "      print(\"group\",group)\n",
    "    \n",
    "print(df2.shape)\n",
    "\n",
    "print(count)"
   ]
  },
  {
   "cell_type": "code",
   "execution_count": null,
   "metadata": {
    "id": "N-0twCQLq6CX"
   },
   "outputs": [],
   "source": [
    "# Write file\n",
    "df2.to_excel(write_path)"
   ]
  }
 ],
 "metadata": {
  "colab": {
   "name": "final_clean_purge_redundancy_remove_na.ipynb",
   "provenance": []
  },
  "kernelspec": {
   "display_name": "Python 3",
   "name": "python3"
  },
  "language_info": {
   "name": "python"
  }
 },
 "nbformat": 4,
 "nbformat_minor": 2
}
