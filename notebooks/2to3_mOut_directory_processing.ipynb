{
 "cells": [
  {
   "cell_type": "code",
   "execution_count": null,
   "metadata": {},
   "outputs": [],
   "source": [
    "## If using Google colab\n",
    "# from google.colab import drive\n",
    "# drive.mount('/content/drive', force_remount=True)"
   ]
  },
  {
   "cell_type": "code",
   "execution_count": null,
   "metadata": {
    "id": "2r5RoBaLZZWs"
   },
   "outputs": [],
   "source": [
    "import pandas as pd\n",
    "import io\n",
    "import numpy as np\n",
    "# test"
   ]
  },
  {
   "cell_type": "code",
   "execution_count": null,
   "metadata": {
    "id": "CvDntdVzUgXL"
   },
   "outputs": [],
   "source": [
    "# Set up read path, read file, write path, write file\n",
    "curr_project_name = \"project_erudition_emails_2\"\n",
    "notebook_path = \"/mnt/c/Users/isaac/Desktop/mturks_assistant_github/mturks_assistant/notebooks\"\n",
    "\n",
    "input_filename='Batch_4515857_batch_results.xlsx'\n",
    "read_path = notebook_path+\"/../projects/\"+curr_project_name+\"/2_mOut_dirs/\"+input_filename\n",
    "\n",
    "output_filename = 'blast2_uni_directories_mod.xlsx'\n",
    "write_path = notebook_path+\"/../projects/\"+curr_project_name+\"/3_notebookProcessed_dirs/\"+output_filename"
   ]
  },
  {
   "cell_type": "markdown",
   "metadata": {
    "id": "YqU0neLGfll1"
   },
   "source": [
    "## Read in MTurks dataframe and do preliminary reformatting and unstacking of data"
   ]
  },
  {
   "cell_type": "code",
   "execution_count": null,
   "metadata": {
    "colab": {
     "base_uri": "https://localhost:8080/"
    },
    "executionInfo": {
     "elapsed": 2745,
     "status": "ok",
     "timestamp": 1629908622117,
     "user": {
      "displayName": "Isaac Howenstine",
      "photoUrl": "",
      "userId": "11451223383071804098"
     },
     "user_tz": 300
    },
    "id": "ZxoI64ASXXq-",
    "outputId": "5db4f9c1-3905-432b-b14c-f0a981aa691f"
   },
   "outputs": [],
   "source": [
    "df=pd.read_excel(read_path)\n",
    "\n",
    "\n",
    "# Clean NANs\n",
    "print('df nan values: ',df.isnull().sum().sum())\n",
    "df = df.fillna('N/A')\n",
    "print('df nan values: ',df.isnull().sum().sum())\n",
    "\n",
    "# Unstack the data side by side \n",
    "df['copy_id'] = -1\n",
    "\n",
    "dfgroups = df.groupby(['Input.university_name','Input.city']).size().reset_index().rename(columns={0:'count'})\n",
    "\n",
    "for i, x in dfgroups.iterrows():\n",
    "  uni = x['Input.university_name']\n",
    "  city = x['Input.city']\n",
    "  df_zoom = df.loc[(df['Input.university_name']==uni) & (df['Input.city'] == city)]\n",
    "    \n",
    "  ctr = 1\n",
    "  for j, y in df_zoom.iterrows():\n",
    "    df.at[j,'copy_id'] = ctr\n",
    "    ctr += 1\n",
    "\n",
    "df2 = df.set_index(['Input.university_name','Input.city','copy_id'])\n",
    "df2 = df2.unstack('copy_id')\n",
    "\n",
    "\n",
    "# Clean NANs\n",
    "print('df2 nan values: ',df2.isnull().sum().sum())\n",
    "df2 = df2.fillna('N/A')\n",
    "print('df2 nan values: ',df2.isnull().sum().sum())\n",
    "\n",
    "# Remove all unnecessary columns for coming analysis\n",
    "# KEEP ALL INPUT DATA FOR LATER CHECKING (all inputs, all answers, hitid, workerid)\n",
    "df3 = df2[['HITId','WorkerId','Input.country','Input.university_name','Input.city','Answer.studentOrgList_url']]\n",
    "\n",
    "# Clean NANs\n",
    "print('df3 nan values: ',df3.isnull().sum().sum())\n",
    "df3 = df3.fillna('N/A')\n",
    "print('df3 nan values: ',df3.isnull().sum().sum())"
   ]
  },
  {
   "cell_type": "markdown",
   "metadata": {
    "id": "3fO2tZtNsy63"
   },
   "source": [
    "## Selecting the winning data and making flags for you to manually check"
   ]
  },
  {
   "cell_type": "code",
   "execution_count": null,
   "metadata": {
    "id": "_V3jfSeTSENL"
   },
   "outputs": [],
   "source": [
    "# Idea: you should confirm that the domain of directory link is what you are expecting...how? But all university website are formatted differently, some use external domains for their club directories.\n",
    "# You must be able to quickly and automatically reject HITs if they are not good. Someone took advantage of you. It's the same worker. They could do this because you are basically approving everyone.\n",
    "## Make a worker dataframe. \n",
    "# For each worker: \n",
    "# (1 count how many HITs they do) \n",
    "# (2 confirm they are not using the same link on more than one submission. Flag them if so. You will reject all of their HITs and block them.) \n",
    "# (3 for each HIT done by the worker, check the initial rating of the HIT (using my simple if/else method). Get the cumulative ratings of the HITs and compare to max possible rating, assign this worker rating to the worker. Use this worker trustworthiness rating to re-weight the redundant HITs, see if this forces a different automatic outcome. ) -- is this is a recursive thing? It reminds me of network eigencentrality ratings.\n",
    "# (4 Assemble a global MTurk trustworthiness database based on all my projects. Blacklisted Turks, starred Turks.)\n",
    "\n",
    "# You should include this information to the output you write and will manually check later. It makes it easier to trace back to find out what happened better. It's possible but slow and difficult to trace through everything\n",
    "# In addition to what you already have, write the worker ID, the cumulative input info you gave them from the beginning of the process until now, and the link from the original spreadsheet where the HITs were stored (?) idk what this last thing is\n",
    "\n",
    "# Also, you should make this for an arbitrary level of redundancy "
   ]
  },
  {
   "cell_type": "code",
   "execution_count": null,
   "metadata": {
    "id": "RhwUi0NG32SE"
   },
   "outputs": [],
   "source": [
    "redundancy = 3 # the redundancy is built into this it will take alot of work to automate this for more or less redundancy\n",
    "item = 'Answer.student_org_url'\n",
    "anchor = '.'\n",
    "\n",
    "for index, row in df3.iterrows():\n",
    "  # print(\"index \",index)\n",
    "  # print(\"row item\")\n",
    "  # print(row['HITId'][1])\n",
    "\n",
    "  \n",
    "  # Case 1: All 3 are the same\n",
    "  #if (row['1'+infix+item] == row['2'+infix+item] and row['1'+infix+item] == row['3'+infix+item]):\n",
    "  if (row[item][1] == row[item][2] and row[item][1] == row[item][3]):\n",
    "    #if ( anchor in row['1'+infix+item]):\n",
    "    if ( anchor in row[item][1]):\n",
    "      #row['Winner_'+item] = row['1'+infix+item]\n",
    "      df3.loc[index, ('results','winner_'+item)] = row[item][1]\n",
    "      #row[item+'flag'] = 'All good, triple consensus'\n",
    "      df3.loc[index,('results','flag_'+item)] = 'All good, triple consensus'\n",
    "      #row['Email_1_list'] = ''\n",
    "      df3.loc[index,('results','list_'+item)] = ''\n",
    "    else:\n",
    "      #row['Winner_'+item] = 'N/A'\n",
    "      df3.loc[index,('results','winner_'+item)] = 'N/A'\n",
    "      #row[item+'_flag'] = 'All good, triple consensus'\n",
    "      df3.loc[index,('results','flag_'+item)] = 'All good, triple consensus'\n",
    "      #row[item+'_list'] = ''\n",
    "      df3.loc[index,('results','list_'+item)] = ''\n",
    "\n",
    "### checkpoint\n",
    "\n",
    "  # Case 2: All 3 are different\n",
    "  elif (row[item][1] != row[item][2] and row[item][1] != row[item][3] and row[item][2] != row[item][3]):\n",
    "    templist = []\n",
    "    #print(row[item][1])\n",
    "    #print(row[item][2])\n",
    "    #print(row[item][3])\n",
    "    #print(type(row[item][3]))\n",
    "\n",
    "    if (anchor in row[item][1]):\n",
    "      templist.append(row[item][1])\n",
    "\n",
    "    if (anchor in row[item][2]):\n",
    "      templist.append(row[item][2])\n",
    "\n",
    "    if (anchor in row[item][3]):\n",
    "      templist.append(row[item][3])\n",
    "\n",
    "    if len(templist) == 0:\n",
    "      # row['winner'+item]='N/A'\n",
    "      df3.loc[index,('results','winner_'+item)] = 'N/A'\n",
    "      # row['flag_'+item] = 'All good, zero value'\n",
    "      df3.loc[index,('results','flag_'+item)] = 'All good, zero value'\n",
    "      # row['list_'+item] = ''\n",
    "      df3.loc[index,('results','list_'+item)] = ''\n",
    "\n",
    "    if len(templist) == 1:\n",
    "      # row['winner'+item]=templist[0]\n",
    "      df3.loc[index,('results','winner_'+item)] = templist[0]\n",
    "      # row['flag'+item] = 'Checkit, minority'\n",
    "      df3.loc[index,('results','flag_'+item)] = 'Checkit, minority'\n",
    "      # row['list'+item] = ''\n",
    "      df3.loc[index,('results','list_'+item)] = ''\n",
    "\n",
    "    if len(templist) == 2:\n",
    "      # row['winner'+item] = \",\".join(templist)\n",
    "      df3.loc[index,('results','winner_'+item)] = \",\".join(templist)\n",
    "      # row['flag'+item] = 'Checkit, multiple emails'\n",
    "      df3.loc[index,('results','flag_'+item)] = 'Checkit, multiple emails'\n",
    "      # row['list'+item] = ''\n",
    "      df3.loc[index,('results','list_'+item)] = ''\n",
    "  \n",
    "    if len(templist) == 3:\n",
    "      df3.loc[index,('results','winner_'+item)] = \",\".join(templist)\n",
    "      df3.loc[index,('results','flag_'+item)] = 'Checkit, multiple emails'\n",
    "      df3.loc[index,('results','list_'+item)] = ''\n",
    "      \n",
    "## Checkpoint\n",
    "\n",
    "\n",
    "  # Case 3: 2 are the same and 1 is different\n",
    "  #elif row['1'+infix+item] == row['2'+infix+item]: # implicitly, the odd one out is not equal\n",
    "  elif row[item][1] == row[item][2]: # implicitly, the odd one out is not equal\n",
    "    # if (anchor in row['1'+infix+item]): # there is an anchor in the overlap\n",
    "    if (anchor in row[item][1]): # there is an anchor in the overlap\n",
    "      if (anchor in row[item][3]): # if there is an anchor in the odd one out, we should take a look\n",
    "        #row['winner'+item] = \",\".join([row[item][1],row[item][3]]) #row['1'+infix+item],row['3'+infix+item]])\n",
    "        df3.loc[index,('results','winner_'+item)] = \",\".join([row[item][1],row[item][3]]) #row['1'+infix+item],row['3'+infix+item]])\n",
    "        # row['flag'+item] = 'Checkit, multiple emails'\n",
    "        df3.loc[index,('results','flag_'+item)] = 'Checkit, multiple emails'\n",
    "        # row['list'+item] = ''\n",
    "        df3.loc[index,('results','list_'+item)] = ''\n",
    "\n",
    "      else: # there is no anchor in the odd one out\n",
    "        # row['winner'+item] = row['1'+infix+item]\n",
    "        df3.loc[index,('results','winner_'+item)] = row[item][1]\n",
    "        #row['flag'+item] = 'All good, double consensus'\n",
    "        df3.loc[index,('results','flag_'+item)] = 'All good, double consensus' \n",
    "        # row['list'+item] = ''\n",
    "        df3.loc[index,('results','list_'+item)] = ''\n",
    "    \n",
    "    else: # there is no anchor in the two that overlap\n",
    "      if anchor in row[item][3]: #row['3'+infix+item]: # if there is an anchor in the odd one out, we should take a look\n",
    "        # row['winner'+item] = row['3'+infix+item]\n",
    "        df3.loc[index,('results','winner_'+item)] = row[item][3]\n",
    "        # row['flag'+item] = 'Checkit, minority'\n",
    "        df3.loc[index,('results','flag_'+item)] = 'Checkit, minority'\n",
    "        # row['list'+item] = ''\n",
    "        df3.loc[index,('results','list_'+item)] = ''\n",
    "\n",
    "      else: # there is no anchor in the odd one out or the overlaps\n",
    "        # row['winner'+item] = 'N/A'\n",
    "        df3.loc[index,('results','winner_'+item)] = 'N/A'\n",
    "        # row['flag'+item] = 'All good, zero value'\n",
    "        df3.loc[index,('results','flag_'+item)] = 'All good, zero value'\n",
    "        # row['list'+item] = ''\n",
    "        df3.loc[index,('results','list_'+item)] = ''\n",
    "    # print('hi')\n",
    "  \n",
    "## Checkpoint    \n",
    "  # elif (row['1'+infix+item] == row['3'+infix+item]):\n",
    "  elif (row[item][1] == row[item][3]):\n",
    "  \n",
    "    if (anchor in row[item][1]): # there is an anchor in the overlap\n",
    "      if (anchor in row[item][2]): # if there is an anchor in the odd one out, we should take a look\n",
    "        # row['winner'+item] = ','.join([row['1'+infix+item],row['2'+infix+item]])\n",
    "        df3.loc[index,('results','winner_'+item)] = ','.join([row[item][1],row[item][2]])\n",
    "        # row['flag'+item] = 'Checkit, multiple emails'\n",
    "        df3.loc[index,('results','flag_'+item)] = 'Checkit, multiple emails'\n",
    "        # row['list'+item] = ''\n",
    "        df3.loc[index,('results','list_'+item)] = ''\n",
    "      else: # there is no anchor in the odd one out\n",
    "        # row['winner'+item] = row['1'+infix+item]\n",
    "        df3.loc[index,('results','winner_'+item)] = row[item][1]\n",
    "        \n",
    "        #row['flag'+item] = 'All good, double consensus'\n",
    "        df3.loc[index,('results','flag_'+item)] = 'All good, double consensus'\n",
    "        \n",
    "        #row['list'+item] = ''\n",
    "        df3.loc[index,('results','list_'+item)] = ''\n",
    "\n",
    "    else: # there is no anchor in the two that overlap\n",
    "      if anchor in row[item][2]: # if there is an @ in the odd one out, we should take a look\n",
    "        \n",
    "        # row['winner'+item] = row['2'+infix+item]\n",
    "        df3.loc[index,('results','winner_'+item)] = row[item][2]\n",
    "        \n",
    "        # row['flag'+item] = 'Checkit, minority'\n",
    "        df3.loc[index,('results','flag_'+item)] = 'Checkit, minority'\n",
    "        \n",
    "        # row['list'+item] = ''\n",
    "        df3.loc[index,('results','list_'+item)] = ''\n",
    "\n",
    "      else: # there is no @ in the odd one out or the overlaps\n",
    "        # row['winner'+item] = 'N/A'\n",
    "        df3.loc[index,('results','winner_'+item)] = 'N/A'\n",
    "\n",
    "        # row['flag'+item] = 'All good, zero value'\n",
    "        df3.loc[index,('results','flag_'+item)] = 'All good, zero value'\n",
    "\n",
    "        # row['list'+item] = ''\n",
    "        df3.loc[index,('results','list_'+item)] = ''\n",
    "\n",
    "    # print('ho')\n",
    "\n",
    "## Checkpoint\n",
    "  #elif (row['2'+infix+item] == row['3'+infix+item]):\n",
    "  elif (row[item][2] == row[item][3]):\n",
    "    \n",
    "    #if (anchor in row['2'+infix+item]): # there is an anchor in the overlap\n",
    "    if (anchor in row[item][2]): # there is an anchor in the overlap\n",
    "\n",
    "      #if (anchor in row['1'+infix+item]): # if there is an anchor in the odd one out, we should take a look\n",
    "      if (anchor in row[item][1]): # if there is an anchor in the odd one out, we should take a look\n",
    "        #row['winner'+item] = ','.join([row['2'+infix+item],row['1'+infix+item]])\n",
    "        df3.loc[index,('results','winner_'+item)] = ','.join([row[item][2],row[item][1]])\n",
    "\n",
    "        #row['flag'+item] = 'Checkit, multiple emails'\n",
    "        df3.loc[index,('results','flag_'+item)] = 'Checkit, multiple emails'\n",
    "\n",
    "        #row['list'+item] = ''\n",
    "        df3.loc[index,('results','list_'+item)] = ''\n",
    "\n",
    "      else: # there is no anchor in the odd one out\n",
    "        # row['winner'+item] = row['2'+infix+item]\n",
    "        df3.loc[index,('results','winner_'+item)] = row[item][2]\n",
    "        \n",
    "        # row['flag'+item] = 'All good, double consensus'\n",
    "        df3.loc[index,('results','flag_'+item)] = 'All good, double consensus'\n",
    "\n",
    "        # row['list'+item] = ''\n",
    "        df3.loc[index,('results','list_'+item)] = ''\n",
    "\n",
    "## checkpoint    \n",
    "    else: # there is no anchor in the two that overlap\n",
    "      #if anchor in row['1'+infix+item]: # if there is an anchor in the odd one out, we should take a look\n",
    "      if anchor in row[item][1]: #['1'+infix+item]: # if there is an anchor in the odd one out, we should take a look\n",
    "        #row['winner'+item] = row['1'+infix+item]\n",
    "        df3.loc[index,('results','winner_'+item)] = row[item][1]\n",
    "\n",
    "        # row['flag'+item] = 'Checkit, minority'\n",
    "        df3.loc[index,('results','flag_'+item)] = 'Checkit, minority'\n",
    "\n",
    "        # row['list'+item] = ''\n",
    "        df3.loc[index,('results','list_'+item)] = ''\n",
    "\n",
    "      else: # there is no anchor in the odd one out or the overlaps\n",
    "        #row['winner'+item] = 'N/A'\n",
    "        df3.loc[index,('results','winner_'+item)] = 'N/A'\n",
    "\n",
    "        #row['flag'+item] = 'All good, zero value'\n",
    "        df3.loc[index,('results','flag_'+item)] = 'All good, zero value'\n",
    "\n",
    "        #row['list'+item] = ''\n",
    "        df3.loc[index,('results','list_'+item)] = ''\n",
    "\n",
    "df3 = df3.fillna('N/A')\n"
   ]
  },
  {
   "cell_type": "code",
   "execution_count": null,
   "metadata": {
    "colab": {
     "base_uri": "https://localhost:8080/",
     "height": 371
    },
    "executionInfo": {
     "elapsed": 93,
     "status": "ok",
     "timestamp": 1629908884479,
     "user": {
      "displayName": "Isaac Howenstine",
      "photoUrl": "",
      "userId": "11451223383071804098"
     },
     "user_tz": 300
    },
    "id": "Cxowe_pBuiBY",
    "outputId": "4630925c-c8b9-4593-f257-59d9a9c5c3a7"
   },
   "outputs": [],
   "source": [
    "df3.head()"
   ]
  },
  {
   "cell_type": "markdown",
   "metadata": {
    "id": "O4g3vohsWmMi"
   },
   "source": [
    "## Export the dataframe"
   ]
  },
  {
   "cell_type": "code",
   "execution_count": null,
   "metadata": {
    "id": "oe49Iss_HuHp"
   },
   "outputs": [],
   "source": [
    "df3.to_excel(write_path)"
   ]
  }
 ],
 "metadata": {
  "colab": {
   "collapsed_sections": [],
   "name": "2.2_mturkDataCleaner.ipynb (based on 4.2 colab)",
   "provenance": []
  },
  "interpreter": {
   "hash": "c5d8f6e74573bcf85721e6caa81fb1e3080928840b56766cb515e33ff1d22f50"
  },
  "kernelspec": {
   "display_name": "Python 3.8.5 64-bit ('base': conda)",
   "name": "python3"
  },
  "language_info": {
   "codemirror_mode": {
    "name": "ipython",
    "version": 3
   },
   "file_extension": ".py",
   "mimetype": "text/x-python",
   "name": "python",
   "nbconvert_exporter": "python",
   "pygments_lexer": "ipython3",
   "version": "3.8.5"
  }
 },
 "nbformat": 4,
 "nbformat_minor": 2
}
